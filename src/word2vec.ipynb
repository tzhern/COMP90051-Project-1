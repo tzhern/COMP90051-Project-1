{
 "cells": [
  {
   "cell_type": "code",
   "execution_count": 1,
   "metadata": {},
   "outputs": [],
   "source": [
    "import json\n",
    "import pandas as pd\n",
    "import numpy as np\n",
    "\n",
    "import matplotlib.pyplot as plt\n",
    "from gensim.models import Word2Vec\n",
    "from sklearn.decomposition import PCA\n",
    "from scipy import spatial\n",
    "\n",
    "from preprocessing import *"
   ]
  },
  {
   "cell_type": "code",
   "execution_count": 2,
   "metadata": {},
   "outputs": [],
   "source": [
    "train = json.load(open('../data/train.json'))\n",
    "train = pd.DataFrame(train).T"
   ]
  },
  {
   "cell_type": "code",
   "execution_count": 3,
   "metadata": {},
   "outputs": [],
   "source": [
    "def extract_keywords(list):\n",
    "    all_keywords = []\n",
    "    for i in list:\n",
    "        all_keywords.append(i)\n",
    "    \n",
    "    return all_keywords"
   ]
  },
  {
   "cell_type": "code",
   "execution_count": 35,
   "metadata": {},
   "outputs": [],
   "source": [
    "model = Word2Vec(extract_keywords(train.keywords), min_count=1, vector_size=128)"
   ]
  },
  {
   "cell_type": "markdown",
   "metadata": {},
   "source": [
    "Visualise word vectors using PCA"
   ]
  },
  {
   "cell_type": "code",
   "execution_count": 36,
   "metadata": {},
   "outputs": [
    {
     "data": {
      "image/png": "[encoded data removed]",
      "text/plain": [
       "<Figure size 432x288 with 1 Axes>"
      ]
     },
     "metadata": {
      "needs_background": "light"
     },
     "output_type": "display_data"
    }
   ],
   "source": [
    "X = model.wv[model.wv.key_to_index]\n",
    "pca = PCA(n_components=2)\n",
    "result = pca.fit_transform(X)\n",
    "plt.scatter(result[:, 0], result[:, 1])\n",
    "plt.show()"
   ]
  },
  {
   "cell_type": "code",
   "execution_count": 37,
   "metadata": {},
   "outputs": [
    {
     "data": {
      "text/plain": [
       "tensor(0.7539)"
      ]
     },
     "execution_count": 37,
     "metadata": {},
     "output_type": "execute_result"
    }
   ],
   "source": [
    "import torch\n",
    "from torch.nn.functional import cosine_similarity\n",
    "\n",
    "x1 = torch.tensor(model.wv.get_vector(123))\n",
    "x2 = torch.tensor(model.wv.get_vector(125))\n",
    "cosine_similarity(x1, x2, dim=0)"
   ]
  },
  {
   "cell_type": "code",
   "execution_count": 39,
   "metadata": {},
   "outputs": [],
   "source": [
    "model.save('word2vec.bin')"
   ]
  },
  {
   "cell_type": "code",
   "execution_count": 7,
   "metadata": {},
   "outputs": [],
   "source": [
    "def get_vector(s):\n",
    "    return np.sum(np.array([model.wv[i] for i in s]), axis=0)"
   ]
  },
  {
   "cell_type": "code",
   "execution_count": 8,
   "metadata": {},
   "outputs": [
    {
     "data": {
      "text/html": [
       "<div>\n",
       "<style scoped>\n",
       "    .dataframe tbody tr th:only-of-type {\n",
       "        vertical-align: middle;\n",
       "    }\n",
       "\n",
       "    .dataframe tbody tr th {\n",
       "        vertical-align: top;\n",
       "    }\n",
       "\n",
       "    .dataframe thead th {\n",
       "        text-align: right;\n",
       "    }\n",
       "</style>\n",
       "<table border=\"1\" class=\"dataframe\">\n",
       "  <thead>\n",
       "    <tr style=\"text-align: right;\">\n",
       "      <th></th>\n",
       "      <th>venue</th>\n",
       "      <th>keywords</th>\n",
       "      <th>year</th>\n",
       "      <th>author</th>\n",
       "    </tr>\n",
       "  </thead>\n",
       "  <tbody>\n",
       "    <tr>\n",
       "      <th>0</th>\n",
       "      <td></td>\n",
       "      <td>[64, 1, 322, 134, 136, 396, 270, 144, 476, 481...</td>\n",
       "      <td>2017</td>\n",
       "      <td>[1605, 759]</td>\n",
       "    </tr>\n",
       "    <tr>\n",
       "      <th>1</th>\n",
       "      <td>0</td>\n",
       "      <td>[258, 260, 389, 261, 390, 396, 400, 17, 146, 2...</td>\n",
       "      <td>2013</td>\n",
       "      <td>[2182]</td>\n",
       "    </tr>\n",
       "    <tr>\n",
       "      <th>2</th>\n",
       "      <td>1</td>\n",
       "      <td>[320, 454, 266, 462, 17, 339, 404, 342, 407, 2...</td>\n",
       "      <td>2007</td>\n",
       "      <td>[2176]</td>\n",
       "    </tr>\n",
       "    <tr>\n",
       "      <th>3</th>\n",
       "      <td>2</td>\n",
       "      <td>[260, 132, 333, 15, 400, 272, 146, 401, 278, 3...</td>\n",
       "      <td>2013</td>\n",
       "      <td>[1107]</td>\n",
       "    </tr>\n",
       "    <tr>\n",
       "      <th>4</th>\n",
       "      <td>3</td>\n",
       "      <td>[64, 385, 449, 450, 71, 73, 268, 80, 216, 25, ...</td>\n",
       "      <td>2009</td>\n",
       "      <td>[1414]</td>\n",
       "    </tr>\n",
       "    <tr>\n",
       "      <th>...</th>\n",
       "      <td>...</td>\n",
       "      <td>...</td>\n",
       "      <td>...</td>\n",
       "      <td>...</td>\n",
       "    </tr>\n",
       "    <tr>\n",
       "      <th>26103</th>\n",
       "      <td>252</td>\n",
       "      <td>[384, 320, 136, 457, 75, 17, 146, 465, 468, 21...</td>\n",
       "      <td>2011</td>\n",
       "      <td>[656, 595]</td>\n",
       "    </tr>\n",
       "    <tr>\n",
       "      <th>26104</th>\n",
       "      <td>50</td>\n",
       "      <td>[318, 70, 457, 459, 396, 77, 146, 404, 468, 40...</td>\n",
       "      <td>2008</td>\n",
       "      <td>[876]</td>\n",
       "    </tr>\n",
       "    <tr>\n",
       "      <th>26105</th>\n",
       "      <td>6</td>\n",
       "      <td>[320, 260, 69, 9, 265, 461, 156, 476, 166, 425...</td>\n",
       "      <td>2008</td>\n",
       "      <td>[535]</td>\n",
       "    </tr>\n",
       "    <tr>\n",
       "      <th>26106</th>\n",
       "      <td>138</td>\n",
       "      <td>[450, 70, 198, 233, 394, 300, 492, 368, 246, 4...</td>\n",
       "      <td>2015</td>\n",
       "      <td>[1954]</td>\n",
       "    </tr>\n",
       "    <tr>\n",
       "      <th>26107</th>\n",
       "      <td>33</td>\n",
       "      <td>[260, 261, 132, 454, 136, 461, 14, 17, 146, 33...</td>\n",
       "      <td>2009</td>\n",
       "      <td>[1417, 1091]</td>\n",
       "    </tr>\n",
       "  </tbody>\n",
       "</table>\n",
       "<p>26108 rows × 4 columns</p>\n",
       "</div>"
      ],
      "text/plain": [
       "      venue                                           keywords  year  \\\n",
       "0            [64, 1, 322, 134, 136, 396, 270, 144, 476, 481...  2017   \n",
       "1         0  [258, 260, 389, 261, 390, 396, 400, 17, 146, 2...  2013   \n",
       "2         1  [320, 454, 266, 462, 17, 339, 404, 342, 407, 2...  2007   \n",
       "3         2  [260, 132, 333, 15, 400, 272, 146, 401, 278, 3...  2013   \n",
       "4         3  [64, 385, 449, 450, 71, 73, 268, 80, 216, 25, ...  2009   \n",
       "...     ...                                                ...   ...   \n",
       "26103   252  [384, 320, 136, 457, 75, 17, 146, 465, 468, 21...  2011   \n",
       "26104    50  [318, 70, 457, 459, 396, 77, 146, 404, 468, 40...  2008   \n",
       "26105     6  [320, 260, 69, 9, 265, 461, 156, 476, 166, 425...  2008   \n",
       "26106   138  [450, 70, 198, 233, 394, 300, 492, 368, 246, 4...  2015   \n",
       "26107    33  [260, 261, 132, 454, 136, 461, 14, 17, 146, 33...  2009   \n",
       "\n",
       "             author  \n",
       "0       [1605, 759]  \n",
       "1            [2182]  \n",
       "2            [2176]  \n",
       "3            [1107]  \n",
       "4            [1414]  \n",
       "...             ...  \n",
       "26103    [656, 595]  \n",
       "26104         [876]  \n",
       "26105         [535]  \n",
       "26106        [1954]  \n",
       "26107  [1417, 1091]  \n",
       "\n",
       "[26108 rows x 4 columns]"
      ]
     },
     "execution_count": 8,
     "metadata": {},
     "output_type": "execute_result"
    }
   ],
   "source": [
    "train"
   ]
  },
  {
   "cell_type": "code",
   "execution_count": 9,
   "metadata": {},
   "outputs": [],
   "source": [
    "t = json.load(open('../data/train.json'))\n",
    "t = train_preprocessing(t)\n",
    "t = pd.DataFrame(t).T"
   ]
  },
  {
   "cell_type": "code",
   "execution_count": 10,
   "metadata": {},
   "outputs": [
    {
     "data": {
      "text/plain": [
       "2302"
      ]
     },
     "execution_count": 10,
     "metadata": {},
     "output_type": "execute_result"
    }
   ],
   "source": [
    "len(set(t.target))"
   ]
  },
  {
   "cell_type": "code",
   "execution_count": 31,
   "metadata": {},
   "outputs": [
    {
     "data": {
      "text/plain": [
       "tensor(True)"
      ]
     },
     "execution_count": 31,
     "metadata": {},
     "output_type": "execute_result"
    }
   ],
   "source": [
    "cosine_similarity(a, b, dim=0) >= 0"
   ]
  },
  {
   "cell_type": "code",
   "execution_count": 39,
   "metadata": {},
   "outputs": [],
   "source": [
    "a = torch.tensor([1, 5, 231, 123, 13])\n",
    "b = torch.ones(5)"
   ]
  },
  {
   "cell_type": "code",
   "execution_count": 40,
   "metadata": {},
   "outputs": [
    {
     "data": {
      "text/plain": [
       "tensor(0.6365)"
      ]
     },
     "execution_count": 40,
     "metadata": {},
     "output_type": "execute_result"
    }
   ],
   "source": [
    "cosine_similarity(a, b, dim=0)"
   ]
  },
  {
   "cell_type": "code",
   "execution_count": 11,
   "metadata": {},
   "outputs": [
    {
     "data": {
      "text/html": [
       "<div>\n",
       "<style scoped>\n",
       "    .dataframe tbody tr th:only-of-type {\n",
       "        vertical-align: middle;\n",
       "    }\n",
       "\n",
       "    .dataframe tbody tr th {\n",
       "        vertical-align: top;\n",
       "    }\n",
       "\n",
       "    .dataframe thead th {\n",
       "        text-align: right;\n",
       "    }\n",
       "</style>\n",
       "<table border=\"1\" class=\"dataframe\">\n",
       "  <thead>\n",
       "    <tr style=\"text-align: right;\">\n",
       "      <th></th>\n",
       "      <th>venue</th>\n",
       "      <th>keywords</th>\n",
       "      <th>year</th>\n",
       "      <th>coauthor</th>\n",
       "      <th>target</th>\n",
       "    </tr>\n",
       "  </thead>\n",
       "  <tbody>\n",
       "    <tr>\n",
       "      <th>0</th>\n",
       "      <td></td>\n",
       "      <td>[64, 1, 322, 134, 136, 396, 270, 144, 476, 481...</td>\n",
       "      <td>2017</td>\n",
       "      <td>[759]</td>\n",
       "      <td>1605</td>\n",
       "    </tr>\n",
       "    <tr>\n",
       "      <th>1</th>\n",
       "      <td></td>\n",
       "      <td>[64, 1, 322, 134, 136, 396, 270, 144, 476, 481...</td>\n",
       "      <td>2017</td>\n",
       "      <td>[1605]</td>\n",
       "      <td>759</td>\n",
       "    </tr>\n",
       "    <tr>\n",
       "      <th>2</th>\n",
       "      <td>0</td>\n",
       "      <td>[258, 260, 389, 261, 390, 396, 400, 17, 146, 2...</td>\n",
       "      <td>2013</td>\n",
       "      <td>[]</td>\n",
       "      <td>2182</td>\n",
       "    </tr>\n",
       "    <tr>\n",
       "      <th>3</th>\n",
       "      <td>1</td>\n",
       "      <td>[320, 454, 266, 462, 17, 339, 404, 342, 407, 2...</td>\n",
       "      <td>2007</td>\n",
       "      <td>[]</td>\n",
       "      <td>2176</td>\n",
       "    </tr>\n",
       "    <tr>\n",
       "      <th>4</th>\n",
       "      <td>2</td>\n",
       "      <td>[260, 132, 333, 15, 400, 272, 146, 401, 278, 3...</td>\n",
       "      <td>2013</td>\n",
       "      <td>[]</td>\n",
       "      <td>1107</td>\n",
       "    </tr>\n",
       "    <tr>\n",
       "      <th>...</th>\n",
       "      <td>...</td>\n",
       "      <td>...</td>\n",
       "      <td>...</td>\n",
       "      <td>...</td>\n",
       "      <td>...</td>\n",
       "    </tr>\n",
       "    <tr>\n",
       "      <th>47995</th>\n",
       "      <td>50</td>\n",
       "      <td>[318, 70, 457, 459, 396, 77, 146, 404, 468, 40...</td>\n",
       "      <td>2008</td>\n",
       "      <td>[]</td>\n",
       "      <td>876</td>\n",
       "    </tr>\n",
       "    <tr>\n",
       "      <th>47996</th>\n",
       "      <td>6</td>\n",
       "      <td>[320, 260, 69, 9, 265, 461, 156, 476, 166, 425...</td>\n",
       "      <td>2008</td>\n",
       "      <td>[]</td>\n",
       "      <td>535</td>\n",
       "    </tr>\n",
       "    <tr>\n",
       "      <th>47997</th>\n",
       "      <td>138</td>\n",
       "      <td>[450, 70, 198, 233, 394, 300, 492, 368, 246, 4...</td>\n",
       "      <td>2015</td>\n",
       "      <td>[]</td>\n",
       "      <td>1954</td>\n",
       "    </tr>\n",
       "    <tr>\n",
       "      <th>47998</th>\n",
       "      <td>33</td>\n",
       "      <td>[260, 261, 132, 454, 136, 461, 14, 17, 146, 33...</td>\n",
       "      <td>2009</td>\n",
       "      <td>[1091]</td>\n",
       "      <td>1417</td>\n",
       "    </tr>\n",
       "    <tr>\n",
       "      <th>47999</th>\n",
       "      <td>33</td>\n",
       "      <td>[260, 261, 132, 454, 136, 461, 14, 17, 146, 33...</td>\n",
       "      <td>2009</td>\n",
       "      <td>[1417]</td>\n",
       "      <td>1091</td>\n",
       "    </tr>\n",
       "  </tbody>\n",
       "</table>\n",
       "<p>48000 rows × 5 columns</p>\n",
       "</div>"
      ],
      "text/plain": [
       "      venue                                           keywords  year coauthor  \\\n",
       "0            [64, 1, 322, 134, 136, 396, 270, 144, 476, 481...  2017    [759]   \n",
       "1            [64, 1, 322, 134, 136, 396, 270, 144, 476, 481...  2017   [1605]   \n",
       "2         0  [258, 260, 389, 261, 390, 396, 400, 17, 146, 2...  2013       []   \n",
       "3         1  [320, 454, 266, 462, 17, 339, 404, 342, 407, 2...  2007       []   \n",
       "4         2  [260, 132, 333, 15, 400, 272, 146, 401, 278, 3...  2013       []   \n",
       "...     ...                                                ...   ...      ...   \n",
       "47995    50  [318, 70, 457, 459, 396, 77, 146, 404, 468, 40...  2008       []   \n",
       "47996     6  [320, 260, 69, 9, 265, 461, 156, 476, 166, 425...  2008       []   \n",
       "47997   138  [450, 70, 198, 233, 394, 300, 492, 368, 246, 4...  2015       []   \n",
       "47998    33  [260, 261, 132, 454, 136, 461, 14, 17, 146, 33...  2009   [1091]   \n",
       "47999    33  [260, 261, 132, 454, 136, 461, 14, 17, 146, 33...  2009   [1417]   \n",
       "\n",
       "      target  \n",
       "0       1605  \n",
       "1        759  \n",
       "2       2182  \n",
       "3       2176  \n",
       "4       1107  \n",
       "...      ...  \n",
       "47995    876  \n",
       "47996    535  \n",
       "47997   1954  \n",
       "47998   1417  \n",
       "47999   1091  \n",
       "\n",
       "[48000 rows x 5 columns]"
      ]
     },
     "execution_count": 11,
     "metadata": {},
     "output_type": "execute_result"
    }
   ],
   "source": [
    "t"
   ]
  },
  {
   "cell_type": "code",
   "execution_count": 47,
   "metadata": {},
   "outputs": [
    {
     "data": {
      "text/plain": [
       "tensor(0.7787)"
      ]
     },
     "execution_count": 47,
     "metadata": {},
     "output_type": "execute_result"
    }
   ],
   "source": [
    "import torch\n",
    "from torch.nn.functional import cosine_similarity\n",
    "\n",
    "x1 = torch.tensor(model.wv.get_vector(123))\n",
    "x2 = torch.tensor(model.wv.get_vector(125))\n",
    "cosine_similarity(x1, x2, dim=0)"
   ]
  },
  {
   "cell_type": "code",
   "execution_count": 13,
   "metadata": {},
   "outputs": [
    {
     "name": "stdout",
     "output_type": "stream",
     "text": [
      "1.0\n"
     ]
    }
   ],
   "source": [
    "print(1 - spatial.distance.cosine(get_vector(t.keywords[0]), get_vector(train.keywords[0])))"
   ]
  },
  {
   "cell_type": "code",
   "execution_count": 14,
   "metadata": {},
   "outputs": [
    {
     "data": {
      "text/plain": [
       "{1, 2, 3, 4, 5}"
      ]
     },
     "execution_count": 14,
     "metadata": {},
     "output_type": "execute_result"
    }
   ],
   "source": [
    "set([1, 2, 3, 4, 5]) - set([7, 8])"
   ]
  }
 ],
 "metadata": {
  "interpreter": {
   "hash": "40d3a090f54c6569ab1632332b64b2c03c39dcf918b08424e98f38b5ae0af88f"
  },
  "kernelspec": {
   "display_name": "Python 3.8.8 ('base')",
   "language": "python",
   "name": "python3"
  },
  "language_info": {
   "codemirror_mode": {
    "name": "ipython",
    "version": 3
   },
   "file_extension": ".py",
   "mimetype": "text/x-python",
   "name": "python",
   "nbconvert_exporter": "python",
   "pygments_lexer": "ipython3",
   "version": "3.8.8"
  },
  "orig_nbformat": 4
 },
 "nbformat": 4,
 "nbformat_minor": 2
}
